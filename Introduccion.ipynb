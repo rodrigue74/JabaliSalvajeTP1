{
 "cells": [
  {
   "cell_type": "markdown",
   "metadata": {
    "colab_type": "text",
    "id": "v82Pw9esFSY9"
   },
   "source": [
    "# Introducción\n",
    "Presentamos en este informe un análisis exploratorio del set de datos publicado en https://www.kaggle.com/c/nlp-getting-started. El set corresponde a una clasificación de tweets cuyo contenido (variable text) se relaciona con la posible ocurrencia de un hecho desgraciado. Se divide en dos subsets: el primero (train) posee una clasificación a posteriori (target) que indica si realmente ocurrió el desastre que se menciona en el tweet (target = 1) o no (target = 0). El segundo subset (test) carece de tal clasificación. Ambos poseen además un código de identificación (id), e información sobre tipo de evento (keyword) y lugar (location). Nuestro análisis tiene en cuenta el objetivo del desafío de kaggle y el del segunto TP de la materia: entrenar un algoritmo con el set train para poder predecir si los tweets del set test están asociados a catástrofes reales o no.\n"
   ]
  }
 ],
 "metadata": {
  "kernelspec": {
   "display_name": "Python 3",
   "language": "python",
   "name": "python3"
  },
  "language_info": {
   "codemirror_mode": {
    "name": "ipython",
    "version": 3
   },
   "file_extension": ".py",
   "mimetype": "text/x-python",
   "name": "python",
   "nbconvert_exporter": "python",
   "pygments_lexer": "ipython3",
   "version": "3.7.4"
  }
 },
 "nbformat": 4,
 "nbformat_minor": 4
}
